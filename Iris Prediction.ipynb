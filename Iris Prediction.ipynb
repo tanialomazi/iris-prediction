{
 "cells": [
  {
   "cell_type": "markdown",
   "id": "c51cf540",
   "metadata": {},
   "source": [
    "# Iris Prediction\n",
    "\n",
    "Fonts: \n",
    "- https://www.analyticsvidhya.com/blog/2018/05/24-ultimate-data-science-projects-to-boost-your-knowledge-and-skills/\n",
    "- Dua, D. and Graff, C. (2019). UCI Machine Learning Repository [http://archive.ics.uci.edu/ml]. Irvine, CA: University of California, School of Information and Computer Science\n",
    "- https://machinelearningmastery.com/machine-learning-in-python-step-by-step/\n",
    "- https://machinelearningmastery.com/k-fold-cross-validation/"
   ]
  },
  {
   "cell_type": "markdown",
   "id": "7bb8e141",
   "metadata": {},
   "source": [
    "## Introduction\n",
    "\n",
    "\n",
    "The objective of this analisys is to predict the class of the flower based on available attributes. Below it's shown the data information: \n",
    "\n",
    "1. Title: Iris Plants Database\n",
    "\tUpdated Sept 21 by C.Blake - Added discrepency information\n",
    "<br>\n",
    "2. Sources:\n",
    "     (a) Creator: R.A. Fisher\n",
    "     (b) Donor: Michael Marshall (MARSHALL%PLU@io.arc.nasa.gov)\n",
    "     (c) Date: July, 1988\n",
    "<br>\n",
    "3. Past Usage:\n",
    "   - Publications: too many to mention!!!  Here are a few.\n",
    "   1. Fisher,R.A. \"The use of multiple measurements in taxonomic problems\"\n",
    "      Annual Eugenics, 7, Part II, 179-188 (1936); also in \"Contributions\n",
    "      to Mathematical Statistics\" (John Wiley, NY, 1950).\n",
    "   2. Duda,R.O., & Hart,P.E. (1973) Pattern Classification and Scene Analysis.\n",
    "      (Q327.D83) John Wiley & Sons.  ISBN 0-471-22361-1.  See page 218.\n",
    "   3. Dasarathy, B.V. (1980) \"Nosing Around the Neighborhood: A New System\n",
    "      Structure and Classification Rule for Recognition in Partially Exposed\n",
    "      Environments\".  IEEE Transactions on Pattern Analysis and Machine\n",
    "      Intelligence, Vol. PAMI-2, No. 1, 67-71.\n",
    "      -- Results:\n",
    "         -- very low misclassification rates (0% for the setosa class)\n",
    "   4. Gates, G.W. (1972) \"The Reduced Nearest Neighbor Rule\".  IEEE \n",
    "      Transactions on Information Theory, May 1972, 431-433.\n",
    "      -- Results:\n",
    "         -- very low misclassification rates again\n",
    "   5. See also: 1988 MLC Proceedings, 54-64.  Cheeseman et al's AUTOCLASS II\n",
    "      conceptual clustering system finds 3 classes in the data.\n",
    "     \n",
    "     <br>\n",
    "      \n",
    "4. Relevant Information:\n",
    "   - This is perhaps the best known database to be found in the pattern\n",
    "       recognition literature.  Fisher's paper is a classic in the field\n",
    "       and is referenced frequently to this day.  (See Duda & Hart, for\n",
    "       example.)  The data set contains 3 classes of 50 instances each,\n",
    "       where each class refers to a type of iris plant.  One class is\n",
    "       linearly separable from the other 2; the latter are NOT linearly\n",
    "       separable from each other.\n",
    "   - Predicted attribute: class of iris plant.\n",
    "   - This is an exceedingly simple domain.\n",
    "   - This data differs from the data presented in Fishers article\n",
    "\t(identified by Steve Chadwick,  spchadwick@espeedaz.net )\n",
    "\tThe 35th sample should be: 4.9,3.1,1.5,0.2,\"Iris-setosa\"\n",
    "\twhere the error is in the fourth feature.\n",
    "\tThe 38th sample: 4.9,3.6,1.4,0.1,\"Iris-setosa\"\n",
    "\twhere the errors are in the second and third features.  \n",
    "<br>\n",
    "\n",
    "5. Number of Instances: 150 (50 in each of three classes)\n",
    "<br>\n",
    "\n",
    "6. Number of Attributes: 4 numeric, predictive attributes and the class\n",
    "<br>\n",
    "\n",
    "\n"
   ]
  },
  {
   "cell_type": "markdown",
   "id": "ab4a785e",
   "metadata": {},
   "source": [
    "## Importing libraries"
   ]
  },
  {
   "cell_type": "code",
   "execution_count": 33,
   "id": "74b3be42",
   "metadata": {},
   "outputs": [],
   "source": [
    "import plotly.express as px\n",
    "import plotly.graph_objects as go\n",
    "import pandas as pd\n",
    "import seaborn as sns\n",
    "import matplotlib.pyplot as plt\n",
    "import numpy as np\n",
    "import sklearn as sk\n",
    "from sklearn.model_selection import train_test_split\n",
    "from sklearn.model_selection import cross_val_score\n",
    "from sklearn.model_selection import StratifiedKFold\n",
    "from sklearn.metrics import classification_report\n",
    "from sklearn.metrics import confusion_matrix\n",
    "from sklearn.metrics import accuracy_score\n",
    "from sklearn.linear_model import LogisticRegression\n",
    "from sklearn.tree import DecisionTreeClassifier\n",
    "from sklearn.neighbors import KNeighborsClassifier\n",
    "from sklearn.discriminant_analysis import LinearDiscriminantAnalysis\n",
    "from sklearn.naive_bayes import GaussianNB\n",
    "from sklearn.svm import SVC"
   ]
  },
  {
   "cell_type": "markdown",
   "id": "29cccc09",
   "metadata": {},
   "source": [
    "## Importing Data Base\n"
   ]
  },
  {
   "cell_type": "code",
   "execution_count": 12,
   "id": "86093d77",
   "metadata": {},
   "outputs": [
    {
     "data": {
      "text/html": [
       "<div>\n",
       "<style scoped>\n",
       "    .dataframe tbody tr th:only-of-type {\n",
       "        vertical-align: middle;\n",
       "    }\n",
       "\n",
       "    .dataframe tbody tr th {\n",
       "        vertical-align: top;\n",
       "    }\n",
       "\n",
       "    .dataframe thead th {\n",
       "        text-align: right;\n",
       "    }\n",
       "</style>\n",
       "<table border=\"1\" class=\"dataframe\">\n",
       "  <thead>\n",
       "    <tr style=\"text-align: right;\">\n",
       "      <th></th>\n",
       "      <th>0</th>\n",
       "      <th>1</th>\n",
       "      <th>2</th>\n",
       "      <th>3</th>\n",
       "      <th>4</th>\n",
       "    </tr>\n",
       "  </thead>\n",
       "  <tbody>\n",
       "    <tr>\n",
       "      <th>0</th>\n",
       "      <td>5.1</td>\n",
       "      <td>3.5</td>\n",
       "      <td>1.4</td>\n",
       "      <td>0.2</td>\n",
       "      <td>Iris-setosa</td>\n",
       "    </tr>\n",
       "    <tr>\n",
       "      <th>1</th>\n",
       "      <td>4.9</td>\n",
       "      <td>3.0</td>\n",
       "      <td>1.4</td>\n",
       "      <td>0.2</td>\n",
       "      <td>Iris-setosa</td>\n",
       "    </tr>\n",
       "    <tr>\n",
       "      <th>2</th>\n",
       "      <td>4.7</td>\n",
       "      <td>3.2</td>\n",
       "      <td>1.3</td>\n",
       "      <td>0.2</td>\n",
       "      <td>Iris-setosa</td>\n",
       "    </tr>\n",
       "    <tr>\n",
       "      <th>3</th>\n",
       "      <td>4.6</td>\n",
       "      <td>3.1</td>\n",
       "      <td>1.5</td>\n",
       "      <td>0.2</td>\n",
       "      <td>Iris-setosa</td>\n",
       "    </tr>\n",
       "    <tr>\n",
       "      <th>4</th>\n",
       "      <td>5.0</td>\n",
       "      <td>3.6</td>\n",
       "      <td>1.4</td>\n",
       "      <td>0.2</td>\n",
       "      <td>Iris-setosa</td>\n",
       "    </tr>\n",
       "    <tr>\n",
       "      <th>...</th>\n",
       "      <td>...</td>\n",
       "      <td>...</td>\n",
       "      <td>...</td>\n",
       "      <td>...</td>\n",
       "      <td>...</td>\n",
       "    </tr>\n",
       "    <tr>\n",
       "      <th>145</th>\n",
       "      <td>6.7</td>\n",
       "      <td>3.0</td>\n",
       "      <td>5.2</td>\n",
       "      <td>2.3</td>\n",
       "      <td>Iris-virginica</td>\n",
       "    </tr>\n",
       "    <tr>\n",
       "      <th>146</th>\n",
       "      <td>6.3</td>\n",
       "      <td>2.5</td>\n",
       "      <td>5.0</td>\n",
       "      <td>1.9</td>\n",
       "      <td>Iris-virginica</td>\n",
       "    </tr>\n",
       "    <tr>\n",
       "      <th>147</th>\n",
       "      <td>6.5</td>\n",
       "      <td>3.0</td>\n",
       "      <td>5.2</td>\n",
       "      <td>2.0</td>\n",
       "      <td>Iris-virginica</td>\n",
       "    </tr>\n",
       "    <tr>\n",
       "      <th>148</th>\n",
       "      <td>6.2</td>\n",
       "      <td>3.4</td>\n",
       "      <td>5.4</td>\n",
       "      <td>2.3</td>\n",
       "      <td>Iris-virginica</td>\n",
       "    </tr>\n",
       "    <tr>\n",
       "      <th>149</th>\n",
       "      <td>5.9</td>\n",
       "      <td>3.0</td>\n",
       "      <td>5.1</td>\n",
       "      <td>1.8</td>\n",
       "      <td>Iris-virginica</td>\n",
       "    </tr>\n",
       "  </tbody>\n",
       "</table>\n",
       "<p>150 rows × 5 columns</p>\n",
       "</div>"
      ],
      "text/plain": [
       "       0    1    2    3               4\n",
       "0    5.1  3.5  1.4  0.2     Iris-setosa\n",
       "1    4.9  3.0  1.4  0.2     Iris-setosa\n",
       "2    4.7  3.2  1.3  0.2     Iris-setosa\n",
       "3    4.6  3.1  1.5  0.2     Iris-setosa\n",
       "4    5.0  3.6  1.4  0.2     Iris-setosa\n",
       "..   ...  ...  ...  ...             ...\n",
       "145  6.7  3.0  5.2  2.3  Iris-virginica\n",
       "146  6.3  2.5  5.0  1.9  Iris-virginica\n",
       "147  6.5  3.0  5.2  2.0  Iris-virginica\n",
       "148  6.2  3.4  5.4  2.3  Iris-virginica\n",
       "149  5.9  3.0  5.1  1.8  Iris-virginica\n",
       "\n",
       "[150 rows x 5 columns]"
      ]
     },
     "metadata": {},
     "output_type": "display_data"
    }
   ],
   "source": [
    "data_raw = pd.read_csv(\"iris.csv\", header=None)\n",
    "display(data_raw)"
   ]
  },
  {
   "cell_type": "markdown",
   "id": "a08cbc0b",
   "metadata": {},
   "source": [
    "## Table Description"
   ]
  },
  {
   "cell_type": "markdown",
   "id": "c5a37ad9",
   "metadata": {},
   "source": [
    "   1. sepal_Len: sepal length (cm)\n",
    "   2. sepal_Wid: sepal width (cm)\n",
    "   3. petal_Len: petal length (cm)\n",
    "   4. petal_Wid: petal width (cm)\n",
    "   5. Class: (classes)\n",
    "      - Iris Setosa\n",
    "      - Iris Versicolour\n",
    "      - Iris Virginica"
   ]
  },
  {
   "cell_type": "markdown",
   "id": "a7c71e9b",
   "metadata": {},
   "source": [
    "## Treating Data"
   ]
  },
  {
   "cell_type": "code",
   "execution_count": 23,
   "id": "3d9a23a2",
   "metadata": {},
   "outputs": [
    {
     "data": {
      "text/html": [
       "<div>\n",
       "<style scoped>\n",
       "    .dataframe tbody tr th:only-of-type {\n",
       "        vertical-align: middle;\n",
       "    }\n",
       "\n",
       "    .dataframe tbody tr th {\n",
       "        vertical-align: top;\n",
       "    }\n",
       "\n",
       "    .dataframe thead th {\n",
       "        text-align: right;\n",
       "    }\n",
       "</style>\n",
       "<table border=\"1\" class=\"dataframe\">\n",
       "  <thead>\n",
       "    <tr style=\"text-align: right;\">\n",
       "      <th></th>\n",
       "      <th>sepal_Len</th>\n",
       "      <th>sepal_Wid</th>\n",
       "      <th>petal_Len</th>\n",
       "      <th>petal_Wid</th>\n",
       "      <th>class</th>\n",
       "    </tr>\n",
       "  </thead>\n",
       "  <tbody>\n",
       "    <tr>\n",
       "      <th>0</th>\n",
       "      <td>5.1</td>\n",
       "      <td>3.5</td>\n",
       "      <td>1.4</td>\n",
       "      <td>0.2</td>\n",
       "      <td>Iris-setosa</td>\n",
       "    </tr>\n",
       "    <tr>\n",
       "      <th>1</th>\n",
       "      <td>4.9</td>\n",
       "      <td>3.0</td>\n",
       "      <td>1.4</td>\n",
       "      <td>0.2</td>\n",
       "      <td>Iris-setosa</td>\n",
       "    </tr>\n",
       "    <tr>\n",
       "      <th>2</th>\n",
       "      <td>4.7</td>\n",
       "      <td>3.2</td>\n",
       "      <td>1.3</td>\n",
       "      <td>0.2</td>\n",
       "      <td>Iris-setosa</td>\n",
       "    </tr>\n",
       "    <tr>\n",
       "      <th>3</th>\n",
       "      <td>4.6</td>\n",
       "      <td>3.1</td>\n",
       "      <td>1.5</td>\n",
       "      <td>0.2</td>\n",
       "      <td>Iris-setosa</td>\n",
       "    </tr>\n",
       "    <tr>\n",
       "      <th>4</th>\n",
       "      <td>5.0</td>\n",
       "      <td>3.6</td>\n",
       "      <td>1.4</td>\n",
       "      <td>0.2</td>\n",
       "      <td>Iris-setosa</td>\n",
       "    </tr>\n",
       "    <tr>\n",
       "      <th>...</th>\n",
       "      <td>...</td>\n",
       "      <td>...</td>\n",
       "      <td>...</td>\n",
       "      <td>...</td>\n",
       "      <td>...</td>\n",
       "    </tr>\n",
       "    <tr>\n",
       "      <th>145</th>\n",
       "      <td>6.7</td>\n",
       "      <td>3.0</td>\n",
       "      <td>5.2</td>\n",
       "      <td>2.3</td>\n",
       "      <td>Iris-virginica</td>\n",
       "    </tr>\n",
       "    <tr>\n",
       "      <th>146</th>\n",
       "      <td>6.3</td>\n",
       "      <td>2.5</td>\n",
       "      <td>5.0</td>\n",
       "      <td>1.9</td>\n",
       "      <td>Iris-virginica</td>\n",
       "    </tr>\n",
       "    <tr>\n",
       "      <th>147</th>\n",
       "      <td>6.5</td>\n",
       "      <td>3.0</td>\n",
       "      <td>5.2</td>\n",
       "      <td>2.0</td>\n",
       "      <td>Iris-virginica</td>\n",
       "    </tr>\n",
       "    <tr>\n",
       "      <th>148</th>\n",
       "      <td>6.2</td>\n",
       "      <td>3.4</td>\n",
       "      <td>5.4</td>\n",
       "      <td>2.3</td>\n",
       "      <td>Iris-virginica</td>\n",
       "    </tr>\n",
       "    <tr>\n",
       "      <th>149</th>\n",
       "      <td>5.9</td>\n",
       "      <td>3.0</td>\n",
       "      <td>5.1</td>\n",
       "      <td>1.8</td>\n",
       "      <td>Iris-virginica</td>\n",
       "    </tr>\n",
       "  </tbody>\n",
       "</table>\n",
       "<p>150 rows × 5 columns</p>\n",
       "</div>"
      ],
      "text/plain": [
       "     sepal_Len  sepal_Wid  petal_Len  petal_Wid           class\n",
       "0          5.1        3.5        1.4        0.2     Iris-setosa\n",
       "1          4.9        3.0        1.4        0.2     Iris-setosa\n",
       "2          4.7        3.2        1.3        0.2     Iris-setosa\n",
       "3          4.6        3.1        1.5        0.2     Iris-setosa\n",
       "4          5.0        3.6        1.4        0.2     Iris-setosa\n",
       "..         ...        ...        ...        ...             ...\n",
       "145        6.7        3.0        5.2        2.3  Iris-virginica\n",
       "146        6.3        2.5        5.0        1.9  Iris-virginica\n",
       "147        6.5        3.0        5.2        2.0  Iris-virginica\n",
       "148        6.2        3.4        5.4        2.3  Iris-virginica\n",
       "149        5.9        3.0        5.1        1.8  Iris-virginica\n",
       "\n",
       "[150 rows x 5 columns]"
      ]
     },
     "metadata": {},
     "output_type": "display_data"
    },
    {
     "name": "stdout",
     "output_type": "stream",
     "text": [
      "['Iris Classes = Iris-setosa' 'Iris Classes = Iris-versicolor'\n",
      " 'Iris Classes = Iris-virginica']\n"
     ]
    }
   ],
   "source": [
    "#getting raw data\n",
    "data = data_raw\n",
    "\n",
    "#naming columns\n",
    "data.columns = [\"sepal_Len\", \"sepal_Wid\", \"petal_Len\", \"petal_Wid\", \"class\"]\n",
    "\n",
    "#adding a number value for class\n",
    "#condition_list = [data[\"class\"] == \"Iris-setosa\", data[\"class\"] == \"Iris-versicolor\", data[\"class\"] == \"Iris-virginica\"]\n",
    "#choice_list = [1, 2, 3]\n",
    "#data[\"class_number\"] = np.select(condition_list, choice_list)\n",
    "\n",
    "#showing data\n",
    "display(data)\n",
    "\n",
    "#showing classes\n",
    "distinct = np.unique(data[\"class\"])\n",
    "print(\"Iris Classes = \" + distinct)"
   ]
  },
  {
   "cell_type": "markdown",
   "id": "a65b5530",
   "metadata": {},
   "source": [
    "## Analisys\n"
   ]
  },
  {
   "cell_type": "code",
   "execution_count": 14,
   "id": "2dbb00a7",
   "metadata": {},
   "outputs": [
    {
     "name": "stdout",
     "output_type": "stream",
     "text": [
      "Data Info\n",
      "<class 'pandas.core.frame.DataFrame'>\n",
      "RangeIndex: 150 entries, 0 to 149\n",
      "Data columns (total 5 columns):\n",
      " #   Column     Non-Null Count  Dtype  \n",
      "---  ------     --------------  -----  \n",
      " 0   sepal_Len  150 non-null    float64\n",
      " 1   sepal_Wid  150 non-null    float64\n",
      " 2   petal_Len  150 non-null    float64\n",
      " 3   petal_Wid  150 non-null    float64\n",
      " 4   class      150 non-null    object \n",
      "dtypes: float64(4), object(1)\n",
      "memory usage: 6.0+ KB\n"
     ]
    },
    {
     "data": {
      "text/plain": [
       "None"
      ]
     },
     "metadata": {},
     "output_type": "display_data"
    },
    {
     "name": "stdout",
     "output_type": "stream",
     "text": [
      "Data statistics\n"
     ]
    },
    {
     "data": {
      "text/html": [
       "<div>\n",
       "<style scoped>\n",
       "    .dataframe tbody tr th:only-of-type {\n",
       "        vertical-align: middle;\n",
       "    }\n",
       "\n",
       "    .dataframe tbody tr th {\n",
       "        vertical-align: top;\n",
       "    }\n",
       "\n",
       "    .dataframe thead th {\n",
       "        text-align: right;\n",
       "    }\n",
       "</style>\n",
       "<table border=\"1\" class=\"dataframe\">\n",
       "  <thead>\n",
       "    <tr style=\"text-align: right;\">\n",
       "      <th></th>\n",
       "      <th>sepal_Len</th>\n",
       "      <th>sepal_Wid</th>\n",
       "      <th>petal_Len</th>\n",
       "      <th>petal_Wid</th>\n",
       "    </tr>\n",
       "  </thead>\n",
       "  <tbody>\n",
       "    <tr>\n",
       "      <th>count</th>\n",
       "      <td>150.0</td>\n",
       "      <td>150.0</td>\n",
       "      <td>150.0</td>\n",
       "      <td>150.0</td>\n",
       "    </tr>\n",
       "    <tr>\n",
       "      <th>mean</th>\n",
       "      <td>5.8</td>\n",
       "      <td>3.1</td>\n",
       "      <td>3.8</td>\n",
       "      <td>1.2</td>\n",
       "    </tr>\n",
       "    <tr>\n",
       "      <th>std</th>\n",
       "      <td>0.8</td>\n",
       "      <td>0.4</td>\n",
       "      <td>1.8</td>\n",
       "      <td>0.8</td>\n",
       "    </tr>\n",
       "    <tr>\n",
       "      <th>min</th>\n",
       "      <td>4.3</td>\n",
       "      <td>2.0</td>\n",
       "      <td>1.0</td>\n",
       "      <td>0.1</td>\n",
       "    </tr>\n",
       "    <tr>\n",
       "      <th>25%</th>\n",
       "      <td>5.1</td>\n",
       "      <td>2.8</td>\n",
       "      <td>1.6</td>\n",
       "      <td>0.3</td>\n",
       "    </tr>\n",
       "    <tr>\n",
       "      <th>50%</th>\n",
       "      <td>5.8</td>\n",
       "      <td>3.0</td>\n",
       "      <td>4.4</td>\n",
       "      <td>1.3</td>\n",
       "    </tr>\n",
       "    <tr>\n",
       "      <th>75%</th>\n",
       "      <td>6.4</td>\n",
       "      <td>3.3</td>\n",
       "      <td>5.1</td>\n",
       "      <td>1.8</td>\n",
       "    </tr>\n",
       "    <tr>\n",
       "      <th>max</th>\n",
       "      <td>7.9</td>\n",
       "      <td>4.4</td>\n",
       "      <td>6.9</td>\n",
       "      <td>2.5</td>\n",
       "    </tr>\n",
       "  </tbody>\n",
       "</table>\n",
       "</div>"
      ],
      "text/plain": [
       "       sepal_Len  sepal_Wid  petal_Len  petal_Wid\n",
       "count      150.0      150.0      150.0      150.0\n",
       "mean         5.8        3.1        3.8        1.2\n",
       "std          0.8        0.4        1.8        0.8\n",
       "min          4.3        2.0        1.0        0.1\n",
       "25%          5.1        2.8        1.6        0.3\n",
       "50%          5.8        3.0        4.4        1.3\n",
       "75%          6.4        3.3        5.1        1.8\n",
       "max          7.9        4.4        6.9        2.5"
      ]
     },
     "metadata": {},
     "output_type": "display_data"
    },
    {
     "name": "stdout",
     "output_type": "stream",
     "text": [
      "Distribution\n"
     ]
    },
    {
     "data": {
      "text/plain": [
       "class\n",
       "Iris-setosa        50\n",
       "Iris-versicolor    50\n",
       "Iris-virginica     50\n",
       "dtype: int64"
      ]
     },
     "metadata": {},
     "output_type": "display_data"
    }
   ],
   "source": [
    "print(\"Data Info\")\n",
    "display(data.info())\n",
    "\n",
    "print(\"Data statistics\")\n",
    "display(data.describe().round(1))\n",
    "\n",
    "print(\"Distribution\")\n",
    "display(data.groupby(\"class\").size())"
   ]
  },
  {
   "cell_type": "markdown",
   "id": "40c87ce0",
   "metadata": {},
   "source": [
    "#### Notes\n",
    "\n",
    "- There's no null value. Treatment not needed.\n",
    "- considering that we are talking about petals and sepals sizes, min and max measure values seems fine.\n",
    "- class distribution is balanced"
   ]
  },
  {
   "cell_type": "code",
   "execution_count": 15,
   "id": "36db3745",
   "metadata": {},
   "outputs": [
    {
     "data": {
      "image/png": "[encoded data removed]",
      "text/plain": [
       "<Figure size 432x288 with 2 Axes>"
      ]
     },
     "metadata": {
      "needs_background": "light"
     },
     "output_type": "display_data"
    }
   ],
   "source": [
    "data_corr = data.corr()\n",
    "plt.figure()\n",
    "sns.heatmap(data_corr, annot=True)\n",
    "plt.show()"
   ]
  },
  {
   "cell_type": "markdown",
   "id": "3b0720f3",
   "metadata": {},
   "source": [
    "#### Notes\n",
    "\n",
    "There's correlation between petal_wid with petal_len (expected) and between sepal_len with both petal_wid and petal_len (object of study). "
   ]
  },
  {
   "cell_type": "code",
   "execution_count": 18,
   "id": "3304d5fd",
   "metadata": {},
   "outputs": [
    {
     "data": {
      "text/plain": [
       "array([[<AxesSubplot:xlabel='sepal_Len', ylabel='sepal_Len'>,\n",
       "        <AxesSubplot:xlabel='sepal_Wid', ylabel='sepal_Len'>,\n",
       "        <AxesSubplot:xlabel='petal_Len', ylabel='sepal_Len'>,\n",
       "        <AxesSubplot:xlabel='petal_Wid', ylabel='sepal_Len'>],\n",
       "       [<AxesSubplot:xlabel='sepal_Len', ylabel='sepal_Wid'>,\n",
       "        <AxesSubplot:xlabel='sepal_Wid', ylabel='sepal_Wid'>,\n",
       "        <AxesSubplot:xlabel='petal_Len', ylabel='sepal_Wid'>,\n",
       "        <AxesSubplot:xlabel='petal_Wid', ylabel='sepal_Wid'>],\n",
       "       [<AxesSubplot:xlabel='sepal_Len', ylabel='petal_Len'>,\n",
       "        <AxesSubplot:xlabel='sepal_Wid', ylabel='petal_Len'>,\n",
       "        <AxesSubplot:xlabel='petal_Len', ylabel='petal_Len'>,\n",
       "        <AxesSubplot:xlabel='petal_Wid', ylabel='petal_Len'>],\n",
       "       [<AxesSubplot:xlabel='sepal_Len', ylabel='petal_Wid'>,\n",
       "        <AxesSubplot:xlabel='sepal_Wid', ylabel='petal_Wid'>,\n",
       "        <AxesSubplot:xlabel='petal_Len', ylabel='petal_Wid'>,\n",
       "        <AxesSubplot:xlabel='petal_Wid', ylabel='petal_Wid'>]],\n",
       "      dtype=object)"
      ]
     },
     "execution_count": 18,
     "metadata": {},
     "output_type": "execute_result"
    },
    {
     "data": {
      "image/png": "[encoded data removed]",
      "text/plain": [
       "<Figure size 864x720 with 16 Axes>"
      ]
     },
     "metadata": {
      "needs_background": "light"
     },
     "output_type": "display_data"
    }
   ],
   "source": [
    "#wid_regression = px.scatter(data, x=\"sepal_Len\", y=\"petal_Wid\", trendline='ols', title=\"sepal_Len x petal_Wid\", color=\"class\")\n",
    "#wid_regression.show()\n",
    "\n",
    "#len_regression = px.scatter(data, x=\"sepal_Len\", y=\"petal_Len\", trendline='ols', title=\"sepal_Len x petal_Len\", color=\"class\")\n",
    "#len_regression.show()\n",
    "\n",
    "pd.plotting.scatter_matrix(data, figsize=(12,10))"
   ]
  },
  {
   "cell_type": "markdown",
   "id": "c2bd1b41",
   "metadata": {},
   "source": [
    "#### Notes\n",
    "The correlation observed above (heatmap) is confirmed at the matrix, where it is possible to see groups of data that indicates high correlation and predictible relationships. "
   ]
  },
  {
   "cell_type": "markdown",
   "id": "291b478c",
   "metadata": {},
   "source": [
    "## Prediction Model"
   ]
  },
  {
   "cell_type": "markdown",
   "id": "90ca88bd",
   "metadata": {},
   "source": [
    "Guide steps to create this prediction model: \n",
    "1. Separate out a validation dataset.\n",
    "2. Set-up the test harness to use 10-fold cross validation.\n",
    "3. Build multiple different models to predict species from flower measurements\n",
    "4. Select the best model."
   ]
  },
  {
   "cell_type": "code",
   "execution_count": 37,
   "id": "9d20b16d",
   "metadata": {},
   "outputs": [
    {
     "name": "stdout",
     "output_type": "stream",
     "text": [
      "LR: 0.941667 (0.065085)\n",
      "LDA: 0.975000 (0.038188)\n",
      "KNN: 0.958333 (0.041667)\n",
      "CART: 0.941667 (0.053359)\n",
      "NB: 0.950000 (0.055277)\n",
      "SVM: 0.983333 (0.033333)\n"
     ]
    }
   ],
   "source": [
    "#creating a validation dataset\n",
    "data_values = data.values\n",
    "\n",
    "#input values\n",
    "X = data_values[:, 0:4]\n",
    "\n",
    "#output values\n",
    "y = data_values[:,4]\n",
    "\n",
    "#splitting arrays in train and test arrays\n",
    "X_train, X_test, y_train, y_test = train_test_split(X, y, test_size=0.20, random_state=1)\n",
    "\n",
    "#STOPPED HERE\n",
    "#models\n",
    "models = []\n",
    "models.append(('LR', LogisticRegression(solver='liblinear', multi_class='ovr')))\n",
    "models.append(('LDA', LinearDiscriminantAnalysis()))\n",
    "models.append(('KNN', KNeighborsClassifier()))\n",
    "models.append(('CART', DecisionTreeClassifier()))\n",
    "models.append(('NB', GaussianNB()))\n",
    "models.append(('SVM', SVC(gamma='auto')))\n",
    "\n",
    "# evaluate each model in turn\n",
    "results = []\n",
    "names = []\n",
    "for name, model in models:\n",
    "    kfold = StratifiedKFold(n_splits=10, random_state=1, shuffle=True)\n",
    "    cv_results = cross_val_score(model, X_train, y_train, cv=kfold, scoring='accuracy')\n",
    "    results.append(cv_results)\n",
    "    names.append(name)\n",
    "    print('%s: %f (%f)' % (name, cv_results.mean(), cv_results.std()))"
   ]
  },
  {
   "cell_type": "code",
   "execution_count": null,
   "id": "79504d84",
   "metadata": {},
   "outputs": [],
   "source": []
  }
 ],
 "metadata": {
  "kernelspec": {
   "display_name": "Python 3 (ipykernel)",
   "language": "python",
   "name": "python3"
  },
  "language_info": {
   "codemirror_mode": {
    "name": "ipython",
    "version": 3
   },
   "file_extension": ".py",
   "mimetype": "text/x-python",
   "name": "python",
   "nbconvert_exporter": "python",
   "pygments_lexer": "ipython3",
   "version": "3.9.7"
  }
 },
 "nbformat": 4,
 "nbformat_minor": 5
}
